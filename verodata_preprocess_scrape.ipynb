{
 "cells": [
  {
   "cell_type": "markdown",
   "metadata": {},
   "source": [
    "# Verodata preprocessing"
   ]
  },
  {
   "cell_type": "code",
   "execution_count": 1,
   "metadata": {},
   "outputs": [],
   "source": [
    "import pandas as pd\n",
    "import numpy as np\n",
    "import requests\n",
    "from json.decoder import JSONDecodeError"
   ]
  },
  {
   "cell_type": "code",
   "execution_count": 47,
   "metadata": {},
   "outputs": [],
   "source": []
  },
  {
   "cell_type": "code",
   "execution_count": 10,
   "metadata": {},
   "outputs": [],
   "source": [
    "df = pd.read_csv('yhteiso_tuloverotus_julk_20{}.csv'.format(11), delimiter=';',encoding = \"ISO-8859-1\",\n",
    "                decimal=',')\n",
    "df.columns = df.columns.str.split('|', expand=True).droplevel(1).str.strip(' ')\n",
    "#df = df[df['Verotettava tulo'] != 0]\n",
    "\n",
    "for i in range(12, 19):\n",
    "    df_t = pd.read_csv('yhteiso_tuloverotus_julk_20{}.csv'.format(i), delimiter=';',encoding = \"ISO-8859-1\",\n",
    "                decimal=',')\n",
    "    df_t.columns = df.columns\n",
    "    #df_t = df_t[df_t['Verotettava tulo'] != 0]\n",
    "    df = df.append(df_t)\n",
    "    \n",
    "#df = df[df.iloc[:,4:].abs().sum(1) != 0]\n",
    "df.to_csv('verodata.csv')"
   ]
  },
  {
   "cell_type": "code",
   "execution_count": 3,
   "metadata": {
    "scrolled": false
   },
   "outputs": [
    {
     "name": "stderr",
     "output_type": "stream",
     "text": [
      "C:\\Users\\lauri\\AppData\\Local\\Continuum\\anaconda3\\lib\\site-packages\\IPython\\core\\interactiveshell.py:3058: DtypeWarning: Columns (4) have mixed types. Specify dtype option on import or set low_memory=False.\n",
      "  interactivity=interactivity, compiler=compiler, result=result)\n"
     ]
    }
   ],
   "source": [
    "df = pd.read_csv('verodata.csv', index_col=0)"
   ]
  },
  {
   "cell_type": "code",
   "execution_count": 3,
   "metadata": {},
   "outputs": [],
   "source": [
    "records = pd.DataFrame()"
   ]
  },
  {
   "cell_type": "code",
   "execution_count": 4,
   "metadata": {
    "scrolled": true
   },
   "outputs": [
    {
     "name": "stdout",
     "output_type": "stream",
     "text": [
      "Trying: 1500000\n",
      "status 429\n",
      "dumping to csv\n"
     ]
    }
   ],
   "source": [
    "i = 1500000\n",
    "while i < 3000000:\n",
    "    print('Trying: {}'.format(i))\n",
    "    url = 'https://avoindata.prh.fi/tr/v1/publicnotices?totalResults=false&maxResults=1000' + \\\n",
    "        '&noticeRegistrationFrom=2011-01-01&noticeRegistrationTo=2018-12-31' + \\\n",
    "        '&resultsFrom={}'.format(i)\n",
    "    r = requests.get(url)\n",
    "    if r.status_code == 429:\n",
    "        print('status 429')\n",
    "        print('dumping to csv')\n",
    "        records.to_csv('recs{}.csv'.format(i))\n",
    "        break\n",
    "    else:\n",
    "        try:\n",
    "            recs = r.json()['results']\n",
    "            records = records.append(pd.DataFrame.from_records(recs).iloc[:,[0,1,2,3,5]])\n",
    "            i += 1000\n",
    "            if i % 100000 == 0:\n",
    "                print('dumping to csv')\n",
    "                records.to_csv('recs{}.csv'.format(i))\n",
    "                records = pd.DataFrame()\n",
    "        except JSONDecodeError:\n",
    "            print('jsondecodeerror')\n",
    "            continue"
   ]
  },
  {
   "cell_type": "code",
   "execution_count": null,
   "metadata": {},
   "outputs": [],
   "source": [
    "import glob\n",
    "import pandas as pd\n",
    "import numpy as np\n",
    "# get data file names\n",
    "\n",
    "path='C:/Users/lauri/koodi/vero'\n",
    "\n",
    "filenames = glob.glob(path + \"/recs*.csv\")\n",
    "print(filenames)\n",
    "dfs = []\n",
    "\n",
    "for filename in filenames:\n",
    "    \n",
    "    dfs.append(pd.read_csv(filename, index_col=0))\n",
    "\n",
    "records = pd.concat(dfs, ignore_index=True)\n",
    "\n",
    "records.entryCodes = [eval(val) for val in records.entryCodes]\n",
    "\n",
    "from sklearn.preprocessing import MultiLabelBinarizer\n",
    "mlb = MultiLabelBinarizer()\n",
    "records = records.join(pd.DataFrame(mlb.fit_transform(records.entryCodes), \n",
    "                                    columns=mlb.classes_, index=records.index))\n",
    "records.set_index('recordNumber', inplace=True)\n",
    "\n",
    "mask = records.iloc[:,4:].columns[records.iloc[:,4:].sum() < 100]\n",
    "records['MUUMUU'] = records[mask].sum(1)\n",
    "records = records.drop(mask, 1)\n",
    "records.to_csv('records_processed.csv')"
   ]
  },
  {
   "cell_type": "code",
   "execution_count": 3,
   "metadata": {
    "collapsed": true
   },
   "outputs": [
    {
     "name": "stdout",
     "output_type": "stream",
     "text": [
      "Got  6015\n",
      "Got  6230\n"
     ]
    }
   ],
   "source": [
    "df = pd.DataFrame()\n",
    "for i in range(6015, 8000):\n",
    "    url = 'http://www.protestilista.com/?page={}'.format(i)\n",
    "    r = requests.get(url)\n",
    "    soup = BeautifulSoup(r.text)\n",
    "    ids = [a['href'][7:] for a in soup.select('a[class=\"\"]')]\n",
    "    info = [a.text.strip() for a in soup.select('span[class=\"color-white-mute\"]')]\n",
    "    debtors = info[::3]\n",
    "    sums = info[1::3]\n",
    "    dates = info[2::3]\n",
    "    df = df.append(pd.DataFrame([ids, debtors, sums, dates]).T)\n",
    "    print('Got ', i)\n",
    "    if i % 1000 == 0:\n",
    "        df.to_csv('protestit2_{}.csv'.format(i))"
   ]
  },
  {
   "cell_type": "code",
   "execution_count": 4,
   "metadata": {},
   "outputs": [],
   "source": [
    "df.to_csv('protestit2_2.csv')"
   ]
  }
 ],
 "metadata": {
  "kernelspec": {
   "display_name": "Python 3",
   "language": "python",
   "name": "python3"
  },
  "language_info": {
   "codemirror_mode": {
    "name": "ipython",
    "version": 3
   },
   "file_extension": ".py",
   "mimetype": "text/x-python",
   "name": "python",
   "nbconvert_exporter": "python",
   "pygments_lexer": "ipython3",
   "version": "3.7.4"
  }
 },
 "nbformat": 4,
 "nbformat_minor": 2
}
